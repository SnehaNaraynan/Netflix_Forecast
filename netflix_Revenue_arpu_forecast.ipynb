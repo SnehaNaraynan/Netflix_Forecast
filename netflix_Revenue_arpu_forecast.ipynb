{
 "cells": [
  {
   "cell_type": "markdown",
   "metadata": {},
   "source": [
    "# Netflix UCAN ARPU Forecasting\n",
    "Using Prophet and ARIMA"
   ]
  },
  {
   "cell_type": "code",
   "execution_count": null,
   "metadata": {},
   "outputs": [],
   "source": [
    "import pandas as pd\n",
    "import numpy as np\n",
    "import matplotlib.pyplot as plt\n",
    "from prophet import Prophet\n",
    "from statsmodels.tsa.arima.model import ARIMA\n",
    "from sklearn.metrics import mean_absolute_error, mean_squared_error, mean_absolute_percentage_error"
   ]
  },
  {
   "cell_type": "markdown",
   "metadata": {},
   "source": [
    "## 1. Load and Prepare the Data"
   ]
  },
  {
   "cell_type": "code",
   "execution_count": null,
   "metadata": {},
   "outputs": [],
   "source": [
    "df = pd.read_csv("netflix_revenue_updated-3.csv")\n",
    "df['Date'] = pd.to_datetime(df['Date'], format="%d/%m/%y")\n",
    "df = df.sort_values("Date")"
   ]
  },
  {
   "cell_type": "markdown",
   "metadata": {},
   "source": [
    "## 2. Prophet Forecasting - UCAN ARPU"
   ]
  },
  {
   "cell_type": "code",
   "execution_count": null,
   "metadata": {},
   "outputs": [],
   "source": [
    "df_prophet = df[['Date', 'UCAN ARPU']].dropna().rename(columns={'Date': 'ds', 'UCAN ARPU': 'y'})\n",
    "prophet_model = Prophet()\n",
    "prophet_model.fit(df_prophet)\n",
    "future = prophet_model.make_future_dataframe(periods=4, freq='Q')\n",
    "forecast_prophet = prophet_model.predict(future)\n",
    "prophet_model.plot(forecast_prophet)\n",
    "plt.title("UCAN ARPU Forecast with Prophet")\n",
    "plt.xlabel("Date")\n",
    "plt.ylabel("ARPU")\n",
    "plt.tight_layout()\n",
    "plt.show()\n",
    "forecast_2025_prophet = forecast_prophet[forecast_prophet['ds'].dt.year == 2025][['ds', 'yhat']]\n",
    "print("Prophet UCAN ARPU Forecast (2025):")\n",
    "print(forecast_2025_prophet)"
   ]
  },
  {
   "cell_type": "markdown",
   "metadata": {},
   "source": [
    "## 3. ARIMA Forecasting - UCAN ARPU"
   ]
  },
  {
   "cell_type": "code",
   "execution_count": null,
   "metadata": {},
   "outputs": [],
   "source": [
    "df_arima = df[['Date', 'UCAN ARPU']].dropna()\n",
    "df_arima.set_index('Date', inplace=True)\n",
    "arima_model = ARIMA(df_arima['UCAN ARPU'], order=(1, 1, 1))\n",
    "arima_result = arima_model.fit()\n",
    "forecast_arima = arima_result.forecast(steps=4)\n",
    "forecast_arima.index = pd.date_range(start=df_arima.index[-1] + pd.offsets.QuarterEnd(), periods=4, freq='Q')\n",
    "plt.figure(figsize=(10, 5))\n",
    "plt.plot(df_arima.index, df_arima['UCAN ARPU'], label='Historical')\n",
    "plt.plot(forecast_arima.index, forecast_arima.values, label='ARIMA Forecast', linestyle='--')\n",
    "plt.title("UCAN ARPU Forecast with ARIMA")\n",
    "plt.xlabel("Date")\n",
    "plt.ylabel("ARPU")\n",
    "plt.legend()\n",
    "plt.tight_layout()\n",
    "plt.show()"
   ]
  },
  {
   "cell_type": "markdown",
   "metadata": {},
   "source": [
    "## 4. Forecast Comparison"
   ]
  },
  {
   "cell_type": "code",
   "execution_count": null,
   "metadata": {},
   "outputs": [],
   "source": [
    "actual_q1_2025 = 17.26\n",
    "q1_date = pd.Timestamp('2025-03-31')\n",
    "q1_prophet = forecast_2025_prophet[forecast_2025_prophet['ds'] == q1_date]['yhat'].values[0]\n",
    "q1_arima = forecast_arima.iloc[0]\n",
    "results = pd.DataFrame({\n",
    "    'Model': ['Prophet', 'ARIMA'],\n",
    "    'Q1 2025 Forecast': [q1_prophet, q1_arima],\n",
    "    'Actual': [actual_q1_2025, actual_q1_2025],\n",
    "})\n",
    "results['% Error'] = abs((results['Q1 2025 Forecast'] - results['Actual']) / results['Actual']) * 100\n",
    "print("\nForecast Comparison for Q1 2025 UCAN ARPU:\n")\n",
    "print(results)"
   ]
  },
  {
   "cell_type": "markdown",
   "metadata": {},
   "source": [
    "## 5. Evaluation Metrics (Historical Fit)"
   ]
  },
  {
   "cell_type": "code",
   "execution_count": null,
   "metadata": {},
   "outputs": [],
   "source": [
    "merged = pd.merge(forecast_prophet[['ds', 'yhat']], df_prophet, on='ds', how='inner')\n",
    "mae = mean_absolute_error(merged['y'], merged['yhat'])\n",
    "rmse = np.sqrt(mean_squared_error(merged['y'], merged['yhat']))\n",
    "mape = mean_absolute_percentage_error(merged['y'], merged['yhat'])\n",
    "print(f"\nProphet Model Metrics:")\n",
    "print(f"MAE: {mae:.2f}, RMSE: {rmse:.2f}, MAPE: {mape*100:.2f}%")"
   ]
  }
 ],
 "metadata": {
  "kernelspec": {
   "display_name": "Python 3",
   "language": "python",
   "name": "python3"
  },
  "language_info": {
   "name": "python"
  }
 },
 "nbformat": 4,
 "nbformat_minor": 2
}